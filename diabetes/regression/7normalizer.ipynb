{
  "nbformat": 4,
  "nbformat_minor": 0,
  "metadata": {
    "colab": {
      "provenance": []
    },
    "kernelspec": {
      "name": "python3",
      "display_name": "Python 3"
    },
    "language_info": {
      "name": "python"
    }
  },
  "cells": [
    {
      "cell_type": "code",
      "execution_count": 7,
      "metadata": {
        "colab": {
          "base_uri": "https://localhost:8080/"
        },
        "id": "aheaT_5GSIQl",
        "outputId": "1e714f41-e21f-496a-beba-3d6a41a06200"
      },
      "outputs": [
        {
          "output_type": "stream",
          "name": "stdout",
          "text": [
            "\n",
            "Linear Regression Results:\n",
            "Linear Regression Mean Squared Error: 2871.2683\n",
            "Linear Regression R^2 Score: 0.4581\n",
            "\n",
            "Decision Tree Regression Results:\n",
            "Decision Tree Regression Mean Squared Error: 5104.3820\n",
            "Decision Tree Regression R^2 Score: 0.0366\n",
            "\n",
            "Random Forest Regression Results:\n",
            "Random Forest Regression Mean Squared Error: 2767.1912\n",
            "Random Forest Regression R^2 Score: 0.4777\n"
          ]
        }
      ],
      "source": [
        "# Import necessary libraries\n",
        "import pandas as pd\n",
        "import numpy as np\n",
        "import matplotlib.pyplot as plt\n",
        "import seaborn as sns\n",
        "from sklearn.datasets import load_diabetes\n",
        "from sklearn.model_selection import train_test_split\n",
        "from sklearn.preprocessing import Normalizer\n",
        "from sklearn.linear_model import LinearRegression\n",
        "from sklearn.tree import DecisionTreeRegressor\n",
        "from sklearn.ensemble import RandomForestRegressor\n",
        "from sklearn.metrics import mean_squared_error, r2_score\n",
        "\n",
        "# Load the diabetes dataset from scikit-learn\n",
        "diabetes = load_diabetes()\n",
        "data = np.c_[diabetes.data, diabetes.target]\n",
        "columns = np.append(diabetes.feature_names, \"target\")\n",
        "df = pd.DataFrame(data, columns=columns)\n",
        "\n",
        "\n",
        "# Split the dataset into features (X) and target variable (y)\n",
        "X = df.drop('target', axis=1)\n",
        "y = df['target']\n",
        "\n",
        "# Split the data into training and testing sets\n",
        "X_train, X_test, y_train, y_test = train_test_split(X, y, test_size=0.2, random_state=42)\n",
        "\n",
        "# Normalization using Normalizer\n",
        "normalizer = Normalizer()\n",
        "X_train_normalized = normalizer.fit_transform(X_train)\n",
        "X_test_normalized = normalizer.transform(X_test)\n",
        "\n",
        "# Linear Regression\n",
        "linear_reg = LinearRegression()\n",
        "linear_reg.fit(X_train_normalized, y_train)\n",
        "linear_reg_pred = linear_reg.predict(X_test_normalized)\n",
        "\n",
        "# Decision Tree Regression\n",
        "tree_reg = DecisionTreeRegressor()\n",
        "tree_reg.fit(X_train_normalized, y_train)\n",
        "tree_reg_pred = tree_reg.predict(X_test_normalized)\n",
        "\n",
        "# Random Forest Regression\n",
        "forest_reg = RandomForestRegressor()\n",
        "forest_reg.fit(X_train_normalized, y_train)\n",
        "forest_reg_pred = forest_reg.predict(X_test_normalized)\n",
        "\n",
        "# Evaluate the models\n",
        "def evaluate_model(y_true, y_pred, model_name):\n",
        "    mse = mean_squared_error(y_true, y_pred)\n",
        "    r2 = r2_score(y_true, y_pred)\n",
        "    print(f\"{model_name} Mean Squared Error: {mse:.4f}\")\n",
        "    print(f\"{model_name} R^2 Score: {r2:.4f}\")\n",
        "\n",
        "print(\"\\nLinear Regression Results:\")\n",
        "evaluate_model(y_test, linear_reg_pred, \"Linear Regression\")\n",
        "\n",
        "print(\"\\nDecision Tree Regression Results:\")\n",
        "evaluate_model(y_test, tree_reg_pred, \"Decision Tree Regression\")\n",
        "\n",
        "print(\"\\nRandom Forest Regression Results:\")\n",
        "evaluate_model(y_test, forest_reg_pred, \"Random Forest Regression\")\n"
      ]
    }
  ]
}